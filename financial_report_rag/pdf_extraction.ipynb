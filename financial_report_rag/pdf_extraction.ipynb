{
 "cells": [
  {
   "cell_type": "code",
   "execution_count": 1,
   "metadata": {},
   "outputs": [],
   "source": [
    "from pypdf import PdfReader"
   ]
  },
  {
   "cell_type": "code",
   "execution_count": 2,
   "metadata": {},
   "outputs": [],
   "source": [
    "reader = PdfReader(\"NASDAQ_MSGM_2023.pdf\")"
   ]
  },
  {
   "cell_type": "code",
   "execution_count": 9,
   "metadata": {},
   "outputs": [
    {
     "name": "stdout",
     "output_type": "stream",
     "text": [
      " \n",
      " \n",
      "Item 8. Financial Statements and Supplementary Data\n",
      " \n",
      " Page\n",
      "Report of Independent Registered Public Accounting Firm (PCAOB ID Number 248) F-1\n",
      "  \n",
      "Consolidated Balance Sheets as of December 31, 2023 and 2022 F-2\n",
      "  \n",
      "Consolidated Statements of Operations for the Years Ended December 31, 2023 and 2022 F-3\n",
      "  \n",
      "Consolidated Statements of Changes in Stockholders’ Equity for the Years Ended December 31, 2023 and 2022 F-5\n",
      "  \n",
      "Consolidated Statements of Cash Flows for the Years Ended December 31, 2023 and 2022 F-6\n",
      "  \n",
      "Notes to the Consolidated Financial Statements F-7\n",
      " \n",
      "66\n"
     ]
    }
   ],
   "source": [
    "page = reader.pages[66]\n",
    "print(page.extract_text())"
   ]
  },
  {
   "cell_type": "code",
   "execution_count": 11,
   "metadata": {},
   "outputs": [
    {
     "name": "stdout",
     "output_type": "stream",
     "text": [
      "New PDF created: Motorsport_Games_Financial_report.pdf\n"
     ]
    }
   ],
   "source": [
    "from pypdf import PdfWriter\n",
    "\n",
    "writer = PdfWriter()\n",
    "\n",
    "page_to_extract = range(66, 104)\n",
    "\n",
    "for page_num in page_to_extract:\n",
    "    writer.add_page(reader.pages[page_num])\n",
    "\n",
    "\n",
    "output_pdf = \"Motorsport_Games_Financial_report.pdf\"\n",
    "with open(output_pdf, \"wb\") as outfile:\n",
    "    writer.write(output_pdf)\n",
    "\n",
    "print(f\"New PDF created: {output_pdf}\")"
   ]
  },
  {
   "cell_type": "code",
   "execution_count": null,
   "metadata": {},
   "outputs": [],
   "source": []
  }
 ],
 "metadata": {
  "kernelspec": {
   "display_name": "lamaidx",
   "language": "python",
   "name": "python3"
  },
  "language_info": {
   "codemirror_mode": {
    "name": "ipython",
    "version": 3
   },
   "file_extension": ".py",
   "mimetype": "text/x-python",
   "name": "python",
   "nbconvert_exporter": "python",
   "pygments_lexer": "ipython3",
   "version": "3.12.8"
  }
 },
 "nbformat": 4,
 "nbformat_minor": 2
}
