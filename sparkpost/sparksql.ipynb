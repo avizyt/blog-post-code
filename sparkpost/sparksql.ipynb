{
 "cells": [
  {
   "cell_type": "code",
   "execution_count": 1,
   "metadata": {},
   "outputs": [],
   "source": [
    "from pyspark.sql import SparkSession"
   ]
  },
  {
   "cell_type": "code",
   "execution_count": 3,
   "metadata": {},
   "outputs": [],
   "source": [
    "spark = (\n",
    "    SparkSession.builder\n",
    "    .appName(\"Spark flight Analysis\")\n",
    "    .getOrCreate()\n",
    ")"
   ]
  },
  {
   "cell_type": "code",
   "execution_count": 4,
   "metadata": {},
   "outputs": [
    {
     "name": "stderr",
     "output_type": "stream",
     "text": [
      "                                                                                \r"
     ]
    }
   ],
   "source": [
    "data = \"./data/flights.csv\"\n",
    "df = (\n",
    "    spark.read.format(\"csv\")\n",
    "      .option(\"inferSchema\", \"true\")\n",
    "      .option('header', 'true')\n",
    "      .load(data)\n",
    ")"
   ]
  },
  {
   "cell_type": "code",
   "execution_count": 5,
   "metadata": {},
   "outputs": [
    {
     "name": "stdout",
     "output_type": "stream",
     "text": [
      "root\n",
      " |-- MONTH: integer (nullable = true)\n",
      " |-- DAY: integer (nullable = true)\n",
      " |-- WEEKDAY: integer (nullable = true)\n",
      " |-- AIRLINE: string (nullable = true)\n",
      " |-- ORG_AIR: string (nullable = true)\n",
      " |-- DEST_AIR: string (nullable = true)\n",
      " |-- SCHED_DEP: integer (nullable = true)\n",
      " |-- DEP_DELAY: double (nullable = true)\n",
      " |-- AIR_TIME: double (nullable = true)\n",
      " |-- DIST: integer (nullable = true)\n",
      " |-- SCHED_ARR: integer (nullable = true)\n",
      " |-- ARR_DELAY: double (nullable = true)\n",
      " |-- DIVERTED: integer (nullable = true)\n",
      " |-- CANCELLED: integer (nullable = true)\n",
      "\n"
     ]
    }
   ],
   "source": [
    "df.printSchema()"
   ]
  },
  {
   "cell_type": "code",
   "execution_count": 6,
   "metadata": {},
   "outputs": [],
   "source": [
    "df.createOrReplaceTempView(\"flight_data\")"
   ]
  },
  {
   "cell_type": "code",
   "execution_count": 7,
   "metadata": {},
   "outputs": [
    {
     "name": "stdout",
     "output_type": "stream",
     "text": [
      "+-----+---+-------+-------+-------+--------+---------+---------+--------+----+---------+---------+--------+---------+\n",
      "|MONTH|DAY|WEEKDAY|AIRLINE|ORG_AIR|DEST_AIR|SCHED_DEP|DEP_DELAY|AIR_TIME|DIST|SCHED_ARR|ARR_DELAY|DIVERTED|CANCELLED|\n",
      "+-----+---+-------+-------+-------+--------+---------+---------+--------+----+---------+---------+--------+---------+\n",
      "|    1|  1|      4|     WN|    LAX|     SLC|     1625|     58.0|    94.0| 590|     1905|     65.0|       0|        0|\n",
      "|    1|  1|      4|     UA|    DEN|     IAD|      823|      7.0|   154.0|1452|     1333|    -13.0|       0|        0|\n",
      "|    1|  1|      4|     MQ|    DFW|     VPS|     1305|     36.0|    85.0| 641|     1453|     35.0|       0|        0|\n",
      "|    1|  1|      4|     AA|    DFW|     DCA|     1555|      7.0|   126.0|1192|     1935|     -7.0|       0|        0|\n",
      "|    1|  1|      4|     WN|    LAX|     MCI|     1720|     48.0|   166.0|1363|     2225|     39.0|       0|        0|\n",
      "|    1|  1|      4|     UA|    IAH|     SAN|     1450|      1.0|   178.0|1303|     1620|    -14.0|       0|        0|\n",
      "|    1|  1|      4|     AA|    DFW|     MSY|     1250|     84.0|    64.0| 447|     1410|     83.0|       0|        0|\n",
      "|    1|  1|      4|     F9|    SFO|     PHX|     1020|     -7.0|    91.0| 651|     1315|     -6.0|       0|        0|\n",
      "|    1|  1|      4|     AA|    ORD|     STL|     1845|     -5.0|    44.0| 258|     1950|     -5.0|       0|        0|\n",
      "|    1|  1|      4|     UA|    IAH|     SJC|      925|      3.0|   215.0|1608|     1136|    -14.0|       0|        0|\n",
      "|    1|  1|      4|     MQ|    DFW|     DRO|     1335|     28.0|   104.0| 674|     1438|     28.0|       0|        0|\n",
      "|    1|  1|      4|     EV|    ORD|     JAN|     1155|      6.0|   113.0| 677|     1403|      5.0|       0|        0|\n",
      "|    1|  1|      4|     OO|    ORD|     MSP|     1510|      2.0|    65.0| 334|     1646|      4.0|       0|        0|\n",
      "|    1|  1|      4|     EV|    ORD|     CMH|     1010|     -2.0|    46.0| 296|     1228|     -9.0|       0|        0|\n",
      "|    1|  1|      4|     UA|    IAH|     IND|     1426|     -1.0|   102.0| 844|     1742|    -20.0|       0|        0|\n",
      "|    1|  1|      4|     AA|    DEN|     DFW|     1445|     -6.0|    93.0| 641|     1745|      4.0|       0|        0|\n",
      "|    1|  1|      4|     OO|    DEN|     SGU|     1105|     21.0|    66.0| 517|     1249|     20.0|       0|        0|\n",
      "|    1|  1|      4|     NK|    DEN|     DTW|     1952|     37.0|   124.0|1123|       31|     54.0|       0|        0|\n",
      "|    1|  1|      4|     MQ|    ORD|     DAY|     2220|     19.0|    37.0| 240|       23|     20.0|       0|        0|\n",
      "|    1|  1|      4|     WN|    PHX|     LAX|     1640|     51.0|    58.0| 370|     1700|     59.0|       0|        0|\n",
      "+-----+---+-------+-------+-------+--------+---------+---------+--------+----+---------+---------+--------+---------+\n",
      "only showing top 20 rows\n",
      "\n"
     ]
    }
   ],
   "source": [
    "df.show()"
   ]
  },
  {
   "cell_type": "code",
   "execution_count": 8,
   "metadata": {},
   "outputs": [
    {
     "name": "stderr",
     "output_type": "stream",
     "text": [
      "[Stage 3:>                                                          (0 + 1) / 1]\r"
     ]
    },
    {
     "name": "stdout",
     "output_type": "stream",
     "text": [
      "+-------+------------+\n",
      "|AIRLINE|flight_count|\n",
      "+-------+------------+\n",
      "|     UA|        7792|\n",
      "|     NK|        1516|\n",
      "|     AA|        8900|\n",
      "|     EV|        5858|\n",
      "|     B6|         543|\n",
      "|     DL|       10601|\n",
      "|     OO|        6588|\n",
      "|     F9|        1317|\n",
      "|     US|        1615|\n",
      "|     MQ|        3471|\n",
      "|     HA|         112|\n",
      "|     AS|         768|\n",
      "|     VX|         993|\n",
      "|     WN|        8418|\n",
      "+-------+------------+\n",
      "\n"
     ]
    },
    {
     "name": "stderr",
     "output_type": "stream",
     "text": [
      "                                                                                \r"
     ]
    }
   ],
   "source": [
    "# Count the number of flights for each AIRLINE\n",
    "airline_count_query = '''\n",
    "        SELECT AIRLINE, COUNT(*) AS flight_count from flight_data GROUP BY AIRLINE\n",
    "'''\n",
    "airline_count_res = spark.sql(airline_count_query)\n",
    "airline_count_res.show()"
   ]
  },
  {
   "cell_type": "code",
   "execution_count": 9,
   "metadata": {},
   "outputs": [
    {
     "name": "stdout",
     "output_type": "stream",
     "text": [
      "+-------+------------------+\n",
      "|WEEKDAY|     avg_dep_delay|\n",
      "+-------+------------------+\n",
      "|      1|12.546447445684088|\n",
      "|      6| 9.333668775158136|\n",
      "|      3|10.582200534448704|\n",
      "|      5|10.789574366331898|\n",
      "|      4|11.505021018215787|\n",
      "|      7| 11.14237123420797|\n",
      "|      2|10.256382852392827|\n",
      "+-------+------------------+\n",
      "\n"
     ]
    }
   ],
   "source": [
    "# Find the average departure delay for each weekday\n",
    "avg_dep_delay_query = '''\n",
    "    SELECT WEEKDAY, AVG(DEP_DELAY) as avg_dep_delay from flight_data GROUP BY WEEKDAY\n",
    "'''\n",
    "\n",
    "avg_dep_delay = spark.sql(avg_dep_delay_query)\n",
    "avg_dep_delay.show()"
   ]
  },
  {
   "cell_type": "code",
   "execution_count": 11,
   "metadata": {},
   "outputs": [
    {
     "name": "stdout",
     "output_type": "stream",
     "text": [
      "+-----+---+-------+-------+-------+--------+---------+---------+--------+----+---------+---------+--------+---------+\n",
      "|MONTH|DAY|WEEKDAY|AIRLINE|ORG_AIR|DEST_AIR|SCHED_DEP|DEP_DELAY|AIR_TIME|DIST|SCHED_ARR|ARR_DELAY|DIVERTED|CANCELLED|\n",
      "+-----+---+-------+-------+-------+--------+---------+---------+--------+----+---------+---------+--------+---------+\n",
      "|    1|  1|      4|     WN|    LAX|     MCI|     1720|     48.0|   166.0|1363|     2225|     39.0|       0|        0|\n",
      "|    1|  1|      4|     NK|    DEN|     DTW|     1952|     37.0|   124.0|1123|       31|     54.0|       0|        0|\n",
      "|    1|  1|      4|     AA|    LAX|     AUS|     1430|     33.0|   157.0|1242|     1925|     41.0|       0|        0|\n",
      "|    1|  1|      4|     AA|    PHX|     MIA|     1559|    115.0|   230.0|1972|     2203|    117.0|       0|        0|\n",
      "|    1|  1|      4|     AA|    LAS|     DFW|     1210|     12.0|   132.0|1055|     1650|     17.0|       0|        0|\n",
      "|    1|  1|      4|     AA|    DFW|     DCA|     2010|     19.0|   126.0|1192|     2350|      4.0|       0|        0|\n",
      "|    1|  1|      4|     OO|    SFO|     MCI|     1717|     91.0|   184.0|1499|     2253|     84.0|       0|        0|\n",
      "|    1|  1|      4|     AA|    LAS|     DFW|     1535|     56.0|   129.0|1055|     2015|     49.0|       0|        0|\n",
      "|    1|  1|      4|     UA|    DEN|     MSY|     1942|    131.0|   137.0|1062|     2319|    165.0|       0|        0|\n",
      "|    1|  1|      4|     UA|    DEN|     FLL|      957|      8.0|   201.0|1703|     1544|     11.0|       0|        0|\n",
      "+-----+---+-------+-------+-------+--------+---------+---------+--------+----+---------+---------+--------+---------+\n",
      "only showing top 10 rows\n",
      "\n"
     ]
    }
   ],
   "source": [
    "# Filter flights with a distance greater than 1000 miles and positive arrival delay\n",
    "distance_arr_delay_query = '''\n",
    "    SELECT * FROM flight_data WHERE DIST > 1000 AND ARR_DELAY > 0\n",
    "'''\n",
    "distance_arr_delay_result = spark.sql(distance_arr_delay_query)\n",
    "distance_arr_delay_result.show(10)"
   ]
  },
  {
   "cell_type": "code",
   "execution_count": 13,
   "metadata": {},
   "outputs": [],
   "source": [
    "# Now we will create new columns TOTAL_DELAY\n",
    "from pyspark.sql import functions as F\n",
    "df = df.withColumn(\"TOTAL_DELAY\", F.col(\"DEP_DELAY\") + F.col(\"ARR_DELAY\"))"
   ]
  },
  {
   "cell_type": "code",
   "execution_count": 14,
   "metadata": {},
   "outputs": [
    {
     "name": "stdout",
     "output_type": "stream",
     "text": [
      "root\n",
      " |-- MONTH: integer (nullable = true)\n",
      " |-- DAY: integer (nullable = true)\n",
      " |-- WEEKDAY: integer (nullable = true)\n",
      " |-- AIRLINE: string (nullable = true)\n",
      " |-- ORG_AIR: string (nullable = true)\n",
      " |-- DEST_AIR: string (nullable = true)\n",
      " |-- SCHED_DEP: integer (nullable = true)\n",
      " |-- DEP_DELAY: double (nullable = true)\n",
      " |-- AIR_TIME: double (nullable = true)\n",
      " |-- DIST: integer (nullable = true)\n",
      " |-- SCHED_ARR: integer (nullable = true)\n",
      " |-- ARR_DELAY: double (nullable = true)\n",
      " |-- DIVERTED: integer (nullable = true)\n",
      " |-- CANCELLED: integer (nullable = true)\n",
      " |-- TOTAL_DELAY: double (nullable = true)\n",
      "\n"
     ]
    }
   ],
   "source": [
    "df.printSchema()"
   ]
  },
  {
   "cell_type": "code",
   "execution_count": 15,
   "metadata": {},
   "outputs": [
    {
     "name": "stdout",
     "output_type": "stream",
     "text": [
      "+-----+---+-------+-------+-------+--------+---------+---------+--------+----+---------+---------+--------+---------+-----------+\n",
      "|MONTH|DAY|WEEKDAY|AIRLINE|ORG_AIR|DEST_AIR|SCHED_DEP|DEP_DELAY|AIR_TIME|DIST|SCHED_ARR|ARR_DELAY|DIVERTED|CANCELLED|TOTAL_DELAY|\n",
      "+-----+---+-------+-------+-------+--------+---------+---------+--------+----+---------+---------+--------+---------+-----------+\n",
      "|    1|  1|      4|     WN|    LAX|     SLC|     1625|     58.0|    94.0| 590|     1905|     65.0|       0|        0|      123.0|\n",
      "|    1|  1|      4|     UA|    DEN|     IAD|      823|      7.0|   154.0|1452|     1333|    -13.0|       0|        0|       -6.0|\n",
      "|    1|  1|      4|     MQ|    DFW|     VPS|     1305|     36.0|    85.0| 641|     1453|     35.0|       0|        0|       71.0|\n",
      "|    1|  1|      4|     AA|    DFW|     DCA|     1555|      7.0|   126.0|1192|     1935|     -7.0|       0|        0|        0.0|\n",
      "|    1|  1|      4|     WN|    LAX|     MCI|     1720|     48.0|   166.0|1363|     2225|     39.0|       0|        0|       87.0|\n",
      "|    1|  1|      4|     UA|    IAH|     SAN|     1450|      1.0|   178.0|1303|     1620|    -14.0|       0|        0|      -13.0|\n",
      "|    1|  1|      4|     AA|    DFW|     MSY|     1250|     84.0|    64.0| 447|     1410|     83.0|       0|        0|      167.0|\n",
      "|    1|  1|      4|     F9|    SFO|     PHX|     1020|     -7.0|    91.0| 651|     1315|     -6.0|       0|        0|      -13.0|\n",
      "|    1|  1|      4|     AA|    ORD|     STL|     1845|     -5.0|    44.0| 258|     1950|     -5.0|       0|        0|      -10.0|\n",
      "|    1|  1|      4|     UA|    IAH|     SJC|      925|      3.0|   215.0|1608|     1136|    -14.0|       0|        0|      -11.0|\n",
      "+-----+---+-------+-------+-------+--------+---------+---------+--------+----+---------+---------+--------+---------+-----------+\n",
      "only showing top 10 rows\n",
      "\n"
     ]
    }
   ],
   "source": [
    "df.show(10)"
   ]
  },
  {
   "cell_type": "code",
   "execution_count": 18,
   "metadata": {},
   "outputs": [
    {
     "name": "stdout",
     "output_type": "stream",
     "text": [
      "+-------+--------+----+\n",
      "|AIRLINE|AIR_TIME|DIST|\n",
      "+-------+--------+----+\n",
      "|     DL|   554.0|4502|\n",
      "|     DL|   504.0|4502|\n",
      "|     DL|   524.0|4502|\n",
      "|     UA|   501.0|4243|\n",
      "|     UA|   506.0|4243|\n",
      "|     UA|   497.0|4243|\n",
      "|     UA|   501.0|4243|\n",
      "|     UA|   500.0|4243|\n",
      "|     UA|   499.0|4243|\n",
      "|     UA|   501.0|4243|\n",
      "+-------+--------+----+\n",
      "only showing top 10 rows\n",
      "\n"
     ]
    }
   ],
   "source": [
    "(\n",
    "    df.select(\"AIRLINE\", \"AIR_TIME\", \"DIST\")\n",
    "    .where(F.col('TOTAL_DELAY') > 0)\n",
    "    .orderBy(F.desc(\"DIST\"))\n",
    " ).show(10)"
   ]
  },
  {
   "cell_type": "code",
   "execution_count": 14,
   "metadata": {},
   "outputs": [
    {
     "name": "stdout",
     "output_type": "stream",
     "text": [
      "+---------+\n",
      "|max(DIST)|\n",
      "+---------+\n",
      "|     4502|\n",
      "+---------+\n",
      "\n"
     ]
    }
   ],
   "source": [
    "from pyspark.sql.functions import max, min\n",
    "\n",
    "df.select(max(col(\"DIST\"))).show()"
   ]
  },
  {
   "cell_type": "code",
   "execution_count": 15,
   "metadata": {},
   "outputs": [
    {
     "data": {
      "text/plain": [
       "4502"
      ]
     },
     "execution_count": 15,
     "metadata": {},
     "output_type": "execute_result"
    }
   ],
   "source": [
    "max_dist = df.select(max(col(\"DIST\"))).first()[0]\n",
    "max_dist"
   ]
  },
  {
   "cell_type": "code",
   "execution_count": 16,
   "metadata": {},
   "outputs": [
    {
     "name": "stdout",
     "output_type": "stream",
     "text": [
      "+-------+--------+\n",
      "|AIRLINE|AIR_TIME|\n",
      "+-------+--------+\n",
      "|     DL|   566.0|\n",
      "|     DL|   551.0|\n",
      "|     DL|   554.0|\n",
      "|     DL|   560.0|\n",
      "|     DL|   539.0|\n",
      "|     DL|   504.0|\n",
      "|     DL|   524.0|\n",
      "|     DL|   533.0|\n",
      "|     DL|   560.0|\n",
      "|     DL|   577.0|\n",
      "+-------+--------+\n",
      "\n"
     ]
    }
   ],
   "source": [
    "(\n",
    "    df.select(\"AIRLINE\", \"AIR_TIME\")\n",
    "    .where(col(\"DIST\") == max_dist)\n",
    ").show()"
   ]
  },
  {
   "attachments": {},
   "cell_type": "markdown",
   "metadata": {},
   "source": [
    "Windowing "
   ]
  },
  {
   "cell_type": "code",
   "execution_count": 17,
   "metadata": {},
   "outputs": [],
   "source": [
    "import pyspark.sql as sql\n",
    "import pyspark.sql.functions as F"
   ]
  },
  {
   "cell_type": "code",
   "execution_count": 18,
   "metadata": {},
   "outputs": [
    {
     "name": "stdout",
     "output_type": "stream",
     "text": [
      "+-----+---+-------+-------+-------+--------+---------+---------+--------+----+---------+---------+--------+---------+-----------+--------+\n",
      "|MONTH|DAY|WEEKDAY|AIRLINE|ORG_AIR|DEST_AIR|SCHED_DEP|DEP_DELAY|AIR_TIME|DIST|SCHED_ARR|ARR_DELAY|DIVERTED|CANCELLED|TOTAL_DELAY|MAX_DIST|\n",
      "+-----+---+-------+-------+-------+--------+---------+---------+--------+----+---------+---------+--------+---------+-----------+--------+\n",
      "|    2|  4|      3|     AA|    DFW|     HNL|     1315|     15.0|   484.0|3784|     1758|      6.0|       0|        0|       21.0|    3784|\n",
      "|    2|  9|      1|     AA|    DFW|     HNL|     1315|     -5.0|   489.0|3784|     1758|     -4.0|       0|        0|       -9.0|    3784|\n",
      "|    2| 24|      2|     AA|    DFW|     HNL|     1315|    169.0|   484.0|3784|     1758|    153.0|       0|        0|      322.0|    3784|\n",
      "|    3|  7|      6|     AA|    DFW|     HNL|     1550|     56.0|   507.0|3784|     2032|     61.0|       0|        0|      117.0|    3784|\n",
      "|    3| 18|      3|     AA|    DFW|     HNL|     1315|     44.0|   496.0|3784|     1658|     41.0|       0|        0|       85.0|    3784|\n",
      "|    3| 28|      6|     AA|    DFW|     HNL|     1055|      1.0|   490.0|3784|     1434|     -5.0|       0|        0|       -4.0|    3784|\n",
      "|    3| 28|      6|     AA|    DFW|     HNL|     1550|     57.0|   460.0|3784|     1932|      7.0|       0|        0|       64.0|    3784|\n",
      "|    6| 15|      1|     AA|    DFW|     HNL|     1030|     43.0|   468.0|3784|     1347|     33.0|       0|        0|       76.0|    3784|\n",
      "|    6| 17|      3|     AA|    DFW|     HNL|     1030|     52.0|   464.0|3784|     1347|     41.0|       0|        0|       93.0|    3784|\n",
      "|    6| 20|      6|     AA|    DFW|     HNL|      905|    351.0|   463.0|3784|     1222|    347.0|       0|        0|      698.0|    3784|\n",
      "|    7|  3|      5|     AA|    DFW|     HNL|      905|      0.0|   453.0|3784|     1222|     -7.0|       0|        0|       -7.0|    3784|\n",
      "|    7| 10|      5|     AA|    DFW|     HNL|     1030|     37.0|   461.0|3784|     1347|     26.0|       0|        0|       63.0|    3784|\n",
      "|    7| 22|      3|     AA|    DFW|     HNL|      905|     -3.0|   478.0|3784|     1222|     11.0|       0|        0|        8.0|    3784|\n",
      "|    8|  1|      6|     AA|    DFW|     HNL|     1030|    107.0|   472.0|3784|     1347|    111.0|       0|        0|      218.0|    3784|\n",
      "|    8| 30|      7|     AA|    DFW|     HNL|     1040|     54.0|   473.0|3784|     1357|     49.0|       0|        0|      103.0|    3784|\n",
      "|    9| 11|      5|     AA|    DFW|     HNL|     1045|      2.0|   486.0|3784|     1408|     16.0|       0|        0|       18.0|    3784|\n",
      "|    9| 29|      2|     AA|    DFW|     HNL|     1045|     -5.0|   494.0|3784|     1408|     16.0|       0|        0|       11.0|    3784|\n",
      "|   12|  1|      2|     AA|    DFW|     HNL|     1055|     -1.0|   513.0|3784|     1531|     25.0|       0|        0|       24.0|    3784|\n",
      "|   12|  9|      3|     AA|    DFW|     HNL|      905|     -4.0|   458.0|3784|     1343|    -40.0|       0|        0|      -44.0|    3784|\n",
      "|   12| 10|      4|     AA|    DFW|     HNL|     1055|     -6.0|   494.0|3784|     1531|     -6.0|       0|        0|      -12.0|    3784|\n",
      "+-----+---+-------+-------+-------+--------+---------+---------+--------+----+---------+---------+--------+---------+-----------+--------+\n",
      "only showing top 20 rows\n",
      "\n"
     ]
    }
   ],
   "source": [
    "\n",
    "airline_window = sql.Window.partitionBy('AIRLINE').orderBy(F.col(\"DIST\").desc())\n",
    "\n",
    "df = df.withColumn(\"MAX_DIST\", max(\"DIST\").over(airline_window))\n",
    "\n",
    "df.show()"
   ]
  },
  {
   "cell_type": "code",
   "execution_count": null,
   "metadata": {},
   "outputs": [],
   "source": []
  }
 ],
 "metadata": {
  "kernelspec": {
   "display_name": "mldl",
   "language": "python",
   "name": "python3"
  },
  "language_info": {
   "codemirror_mode": {
    "name": "ipython",
    "version": 3
   },
   "file_extension": ".py",
   "mimetype": "text/x-python",
   "name": "python",
   "nbconvert_exporter": "python",
   "pygments_lexer": "ipython3",
   "version": "3.9.15"
  },
  "orig_nbformat": 4
 },
 "nbformat": 4,
 "nbformat_minor": 2
}
