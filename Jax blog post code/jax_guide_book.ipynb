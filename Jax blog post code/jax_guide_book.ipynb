{
 "cells": [
  {
   "cell_type": "code",
   "execution_count": 1,
   "metadata": {},
   "outputs": [],
   "source": [
    "import jax\n",
    "import jax.numpy as jnp"
   ]
  },
  {
   "cell_type": "code",
   "execution_count": 2,
   "metadata": {},
   "outputs": [],
   "source": [
    "# Simple NumPy-style operations\n",
    "x = jnp.array([1, 2, 3])\n",
    "y = jnp.square(x)  # Works just like NumPy!"
   ]
  },
  {
   "cell_type": "code",
   "execution_count": 3,
   "metadata": {},
   "outputs": [
    {
     "name": "stdout",
     "output_type": "stream",
     "text": [
      "[1 2 3] [1 4 9]\n"
     ]
    }
   ],
   "source": [
    "print(x, y)"
   ]
  },
  {
   "cell_type": "code",
   "execution_count": 4,
   "metadata": {},
   "outputs": [
    {
     "name": "stdout",
     "output_type": "stream",
     "text": [
      "Gradient: [2. 4. 6.]\n"
     ]
    }
   ],
   "source": [
    "from jax import grad, jit\n",
    "\n",
    "\n",
    "# Define a simple function\n",
    "@jit  # Speed it up with compilation\n",
    "def square_sum(x):\n",
    "    return jnp.sum(jnp.square(x))\n",
    "\n",
    "\n",
    "# Get its gradient function automatically\n",
    "gradient_fn = grad(square_sum)\n",
    "\n",
    "# Try it out\n",
    "x = jnp.array([1.0, 2.0, 3.0])\n",
    "print(f\"Gradient: {gradient_fn(x)}\")  # Returns: [2., 4., 6.]"
   ]
  },
  {
   "cell_type": "code",
   "execution_count": 5,
   "metadata": {},
   "outputs": [
    {
     "name": "stdout",
     "output_type": "stream",
     "text": [
      "Without JIT: 0.1812 seconds\n",
      "With JIT: 0.0010 seconds\n"
     ]
    }
   ],
   "source": [
    "import jax.numpy as jnp\n",
    "from jax import jit\n",
    "import time\n",
    "\n",
    "\n",
    "# A computationally intensive function\n",
    "def slow_function(x):\n",
    "    for _ in range(1000):\n",
    "        x = jnp.sin(x) + jnp.cos(x)\n",
    "    return x\n",
    "\n",
    "\n",
    "# The same function with JIT\n",
    "@jit\n",
    "def fast_function(x):\n",
    "    for _ in range(1000):\n",
    "        x = jnp.sin(x) + jnp.cos(x)\n",
    "    return x\n",
    "\n",
    "\n",
    "# Compare performance\n",
    "x = jnp.arange(1000)\n",
    "\n",
    "# Warm-up JIT\n",
    "fast_function(x)  # First call compiles the function\n",
    "\n",
    "# Time comparison\n",
    "start = time.time()\n",
    "slow_result = slow_function(x)\n",
    "print(f\"Without JIT: {time.time() - start:.4f} seconds\")\n",
    "\n",
    "start = time.time()\n",
    "fast_result = fast_function(x)\n",
    "print(f\"With JIT: {time.time() - start:.4f} seconds\")"
   ]
  },
  {
   "cell_type": "code",
   "execution_count": 6,
   "metadata": {},
   "outputs": [
    {
     "name": "stdout",
     "output_type": "stream",
     "text": [
      "[1 2 3]\n"
     ]
    }
   ],
   "source": [
    "# Bad - uses Python control flow\n",
    "@jit\n",
    "def bad_function(x):\n",
    "    if x[0] > 0:  # This won't work well with JIT\n",
    "        return x\n",
    "    return -x\n",
    "\n",
    "\n",
    "# print(bad_function(jnp.array([1, 2, 3])))\n",
    "\n",
    "\n",
    "# Good - uses JAX control flow\n",
    "@jit\n",
    "def good_function(x):\n",
    "    return jnp.where(x[0] > 0, x, -x)  # JAX-native condition\n",
    "\n",
    "\n",
    "print(good_function(jnp.array([1, 2, 3])))"
   ]
  },
  {
   "cell_type": "code",
   "execution_count": 7,
   "metadata": {},
   "outputs": [
    {
     "name": "stdout",
     "output_type": "stream",
     "text": [
      "Second derivative of sin at x=2: -0.9092974066734314\n"
     ]
    }
   ],
   "source": [
    "from jax import grad, value_and_grad\n",
    "\n",
    "\n",
    "# Define a simple neural network layer\n",
    "def layer(params, x):\n",
    "    weight, bias = params\n",
    "    return jnp.dot(x, weight) + bias\n",
    "\n",
    "\n",
    "# Define a scalar-valued loss function\n",
    "def loss_fn(params, x):\n",
    "    output = layer(params, x)\n",
    "    return jnp.sum(output)  # Reducing to a scalar\n",
    "\n",
    "\n",
    "# Get both the output and gradient\n",
    "layer_grad = grad(loss_fn, argnums=0)  # Gradient with respect to params\n",
    "layer_value_and_grad = value_and_grad(loss_fn, argnums=0)  # Both value and gradient\n",
    "\n",
    "# Example usage\n",
    "key = jax.random.PRNGKey(0)\n",
    "x = jax.random.normal(key, (3, 4))\n",
    "weight = jax.random.normal(key, (4, 2))\n",
    "bias = jax.random.normal(key, (2,))\n",
    "\n",
    "# Compute gradients\n",
    "grads = layer_grad((weight, bias), x)\n",
    "output, grads = layer_value_and_grad((weight, bias), x)\n",
    "\n",
    "# Multiple derivatives are easy\n",
    "twice_grad = grad(grad(jnp.sin))\n",
    "x = jnp.array(2.0)\n",
    "print(f\"Second derivative of sin at x=2: {twice_grad(x)}\")"
   ]
  },
  {
   "cell_type": "code",
   "execution_count": 8,
   "metadata": {},
   "outputs": [
    {
     "name": "stdout",
     "output_type": "stream",
     "text": [
      "(1000,)\n",
      "(1000,)\n",
      "(1000, 3)\n"
     ]
    }
   ],
   "source": [
    "import jax.numpy as jnp\n",
    "from jax import vmap\n",
    "\n",
    "\n",
    "# A function that works on single inputs\n",
    "def single_input_fn(x):\n",
    "    return jnp.sin(x) + jnp.cos(x)\n",
    "\n",
    "\n",
    "# Vectorize it to work on batches\n",
    "batch_fn = vmap(single_input_fn)\n",
    "\n",
    "# Compare performance\n",
    "x = jnp.arange(1000)\n",
    "\n",
    "# Without vmap (using a list comprehension)\n",
    "result1 = jnp.array([single_input_fn(xi) for xi in x])\n",
    "\n",
    "# With vmap\n",
    "result2 = batch_fn(x)  # Much faster!\n",
    "\n",
    "\n",
    "# Vectorizing multiple arguments\n",
    "def two_input_fn(x, y):\n",
    "    return x * jnp.sin(y)\n",
    "\n",
    "\n",
    "# Vectorize over both inputs\n",
    "vectorized_fn = vmap(two_input_fn, in_axes=(0, 0))\n",
    "\n",
    "# Or vectorize over just the first input\n",
    "partially_vectorized_fn = vmap(two_input_fn, in_axes=(0, None))\n",
    "\n",
    "\n",
    "# print\n",
    "print(result1.shape)\n",
    "print(result2.shape)\n",
    "print(partially_vectorized_fn(x, y).shape)\n"
   ]
  },
  {
   "cell_type": "code",
   "execution_count": 9,
   "metadata": {},
   "outputs": [
    {
     "name": "stdout",
     "output_type": "stream",
     "text": [
      "Epoch 0, Loss: 90.6157\n",
      "Epoch 10, Loss: 5.1804\n",
      "Epoch 20, Loss: 1.2572\n",
      "Epoch 30, Loss: 0.5859\n",
      "Epoch 40, Loss: 0.2757\n",
      "Epoch 50, Loss: 0.1156\n",
      "Epoch 60, Loss: 0.0477\n",
      "Epoch 70, Loss: 0.0188\n",
      "Epoch 80, Loss: 0.0062\n",
      "Epoch 90, Loss: 0.0018\n"
     ]
    }
   ],
   "source": [
    "import jax\n",
    "import jax.numpy as jnp\n",
    "from jax import grad, jit, vmap\n",
    "from jax.random import PRNGKey, normal\n",
    "import optax  # JAX's optimization library\n",
    "\n",
    "\n",
    "def init_layer_params(key, n_in, n_out):\n",
    "    \"\"\"Initialize parameters for a single dense layer\"\"\"\n",
    "    key_w, key_b = jax.random.split(key)\n",
    "    w = normal(key_w, (n_in, n_out)) * jnp.sqrt(2.0 / n_in)  # He initialization\n",
    "    b = normal(key_b, (n_out,)) * 0.1\n",
    "    return (w, b)\n",
    "\n",
    "\n",
    "def relu(x):\n",
    "    \"\"\"ReLU activation function\"\"\"\n",
    "    return jnp.maximum(0, x)\n",
    "\n",
    "\n",
    "def forward(params, x):\n",
    "    \"\"\"Forward pass for a two-layer neural network\"\"\"\n",
    "    (w1, b1), (w2, b2) = params\n",
    "\n",
    "    # First layer\n",
    "    h1 = relu(jnp.dot(x, w1) + b1)\n",
    "\n",
    "    # Output layer\n",
    "    logits = jnp.dot(h1, w2) + b2\n",
    "    return logits\n",
    "\n",
    "\n",
    "def loss_fn(params, x, y):\n",
    "    \"\"\"Mean squared error loss\"\"\"\n",
    "    pred = forward(params, x)\n",
    "    return jnp.mean((pred - y) ** 2)\n",
    "\n",
    "\n",
    "# Initialize model\n",
    "def init_model(rng_key, input_dim, hidden_dim, output_dim):\n",
    "    key1, key2 = jax.random.split(rng_key)\n",
    "    params = [\n",
    "        init_layer_params(key1, input_dim, hidden_dim),\n",
    "        init_layer_params(key2, hidden_dim, output_dim),\n",
    "    ]\n",
    "    return params\n",
    "\n",
    "\n",
    "# Training step (JIT-compiled for speed)\n",
    "@jit\n",
    "def train_step(params, opt_state, x_batch, y_batch):\n",
    "    loss, grads = value_and_grad(loss_fn)(params, x_batch, y_batch)\n",
    "    updates, opt_state = optimizer.update(grads, opt_state)\n",
    "    params = optax.apply_updates(params, updates)\n",
    "    return params, opt_state, loss\n",
    "\n",
    "\n",
    "# Generate some example data\n",
    "key = PRNGKey(0)\n",
    "x_data = normal(key, (1000, 10))  # 1000 samples, 10 features\n",
    "y_data = jnp.sum(x_data**2, axis=1, keepdims=True)  # Simple nonlinear function\n",
    "\n",
    "# Initialize model and optimizer\n",
    "params = init_model(key, input_dim=10, hidden_dim=32, output_dim=1)\n",
    "optimizer = optax.adam(learning_rate=0.001)\n",
    "opt_state = optimizer.init(params)\n",
    "\n",
    "# Training loop\n",
    "batch_size = 32\n",
    "num_epochs = 100\n",
    "num_batches = x_data.shape[0] // batch_size\n",
    "\n",
    "for epoch in range(num_epochs):\n",
    "    epoch_loss = 0.0\n",
    "\n",
    "    for batch in range(num_batches):\n",
    "        idx = jax.random.permutation(key, batch_size)\n",
    "        x_batch = x_data[idx]\n",
    "        y_batch = y_data[idx]\n",
    "\n",
    "        params, opt_state, loss = train_step(params, opt_state, x_batch, y_batch)\n",
    "        epoch_loss += loss\n",
    "\n",
    "    if epoch % 10 == 0:\n",
    "        print(f\"Epoch {epoch}, Loss: {epoch_loss/num_batches:.4f}\")"
   ]
  },
  {
   "cell_type": "code",
   "execution_count": 10,
   "metadata": {},
   "outputs": [
    {
     "name": "stdout",
     "output_type": "stream",
     "text": [
      "Step 0, Value: 0.9960\n",
      "Step 100, Value: 0.6787\n",
      "Step 200, Value: 0.4910\n",
      "Step 300, Value: 0.3748\n",
      "Step 400, Value: 0.2970\n",
      "Step 500, Value: 0.2416\n",
      "Step 600, Value: 0.2003\n",
      "Step 700, Value: 0.1685\n",
      "Step 800, Value: 0.1433\n",
      "Step 900, Value: 0.1231\n",
      "Step 1000, Value: 0.1064\n",
      "Step 1100, Value: 0.0927\n",
      "Step 1200, Value: 0.0811\n",
      "Step 1300, Value: 0.0713\n",
      "Step 1400, Value: 0.0629\n",
      "Step 1500, Value: 0.0557\n",
      "Step 1600, Value: 0.0495\n",
      "Step 1700, Value: 0.0441\n",
      "Step 1800, Value: 0.0394\n",
      "Step 1900, Value: 0.0353\n"
     ]
    }
   ],
   "source": [
    "from jax import grad, jit\n",
    "\n",
    "\n",
    "# Define a function to minimize (e.g., Rosenbrock function)\n",
    "@jit\n",
    "def rosenbrock(x):\n",
    "    return sum(100.0 * (x[1:] - x[:-1] ** 2.0) ** 2.0 + (1 - x[:-1]) ** 2.0)\n",
    "\n",
    "\n",
    "# Gradient descent optimization\n",
    "@jit\n",
    "def gradient_descent_step(x, learning_rate):\n",
    "    return x - learning_rate * grad(rosenbrock)(x)\n",
    "\n",
    "\n",
    "# Optimize\n",
    "x = jnp.array([0.0, 0.0])  # Starting point\n",
    "learning_rate = 0.001\n",
    "\n",
    "for i in range(2000):\n",
    "    x = gradient_descent_step(x, learning_rate)\n",
    "    if i % 100 == 0:\n",
    "        print(f\"Step {i}, Value: {rosenbrock(x):.4f}\")"
   ]
  },
  {
   "cell_type": "code",
   "execution_count": 11,
   "metadata": {},
   "outputs": [
    {
     "name": "stdout",
     "output_type": "stream",
     "text": [
      "Value of x: [1.8 1.4]\n",
      "Eigenvalues of A: [1.381966+0.j 3.618034+0.j]\n",
      "π estimate: 2.814800\n"
     ]
    }
   ],
   "source": [
    "# Solving linear systems\n",
    "def solve_linear_system(A, b):\n",
    "    \"\"\"Solve Ax = b using JAX\"\"\"\n",
    "    return jnp.linalg.solve(A, b)\n",
    "\n",
    "\n",
    "# Example usage\n",
    "A = jnp.array([[2.0, 1.0], [1.0, 3.0]])\n",
    "b = jnp.array([5.0, 6.0])\n",
    "x = solve_linear_system(A, b)\n",
    "print(f\"Value of x: {x}\")\n",
    "\n",
    "\n",
    "# Eigenvalue decomposition\n",
    "def compute_eigenvalues(A):\n",
    "    \"\"\"Compute eigenvalues of a matrix\"\"\"\n",
    "    return jnp.linalg.eigvals(A)\n",
    "\n",
    "\n",
    "# Example usage\n",
    "A = jnp.array([[2.0, 1.0], [1.0, 3.0]])\n",
    "eigenvalues = compute_eigenvalues(A)\n",
    "print(f\"Eigenvalues of A: {eigenvalues}\")\n",
    "\n",
    "\n",
    "# Random number handling with reproducibility\n",
    "def monte_carlo_pi(key, num_points=10000):\n",
    "    \"\"\"Estimate π using Monte Carlo method\"\"\"\n",
    "    x = jax.random.uniform(key, (num_points,))\n",
    "    y = jax.random.uniform(key, (num_points,))\n",
    "    inside_circle = jnp.sum(x**2 + y**2 <= 1.0)\n",
    "    pi_estimate = 4.0 * inside_circle / num_points\n",
    "    return pi_estimate\n",
    "\n",
    "\n",
    "key = jax.random.PRNGKey(0)\n",
    "print(f\"π estimate: {monte_carlo_pi(key):.6f}\")"
   ]
  },
  {
   "cell_type": "markdown",
   "metadata": {},
   "source": [
    "## Matrix Operation"
   ]
  },
  {
   "cell_type": "code",
   "execution_count": 12,
   "metadata": {},
   "outputs": [
    {
     "name": "stdout",
     "output_type": "stream",
     "text": [
      "Matrix A: \n",
      "[[1 2]\n",
      " [3 4]]\n",
      "===========================\n",
      "Matrix B: \n",
      "[[5 6]\n",
      " [7 8]]\n",
      "===========================\n",
      "Matrix adition of A+B: \n",
      "[[ 6  8]\n",
      " [10 12]]\n",
      "===========================\n",
      "Matrix Substraction of A-B: \n",
      "[[-4 -4]\n",
      " [-4 -4]]\n"
     ]
    }
   ],
   "source": [
    "# 1 Matrix Addition and Subtraction:\n",
    "\n",
    "import jax.numpy as jnp\n",
    "\n",
    "A = jnp.array([[1, 2], [3, 4]])\n",
    "B = jnp.array([[5, 6], [7, 8]])\n",
    "\n",
    "# Matrix addition\n",
    "C = A + B\n",
    "# Matrix subtraction\n",
    "D = A - B\n",
    "\n",
    "print(f\"Matrix A: \\n{A}\")\n",
    "print(\"===========================\")\n",
    "print(f\"Matrix B: \\n{B}\")\n",
    "print(\"===========================\")\n",
    "print(f\"Matrix adition of A+B: \\n{C}\")\n",
    "print(\"===========================\")\n",
    "print(f\"Matrix Substraction of A-B: \\n{D}\")"
   ]
  },
  {
   "cell_type": "code",
   "execution_count": 13,
   "metadata": {},
   "outputs": [
    {
     "name": "stdout",
     "output_type": "stream",
     "text": [
      "Matrix A: \n",
      "[[1 2]\n",
      " [3 4]]\n",
      "===========================\n",
      "Matrix B: \n",
      "[[5 6]\n",
      " [7 8]]\n",
      "===========================\n",
      "Element-wise multiplication of A*B: \n",
      "[[ 5 12]\n",
      " [21 32]]\n",
      "===========================\n",
      "Matrix multiplication of A*B: \n",
      "[[19 22]\n",
      " [43 50]]\n"
     ]
    }
   ],
   "source": [
    "# Element-wise multiplication\n",
    "E = A * B\n",
    "\n",
    "# Matrix multiplication (dot product)\n",
    "F = jnp.dot(A, B)\n",
    "\n",
    "print(f\"Matrix A: \\n{A}\")\n",
    "print(\"===========================\")\n",
    "print(f\"Matrix B: \\n{B}\")\n",
    "print(\"===========================\")\n",
    "print(f\"Element-wise multiplication of A*B: \\n{E}\")\n",
    "print(\"===========================\")\n",
    "print(f\"Matrix multiplication of A*B: \\n{F}\")\n"
   ]
  },
  {
   "cell_type": "code",
   "execution_count": null,
   "metadata": {},
   "outputs": [
    {
     "name": "stdout",
     "output_type": "stream",
     "text": [
      "Matrix A: \n",
      "[[1 2]\n",
      " [3 4]]\n",
      "===========================\n",
      "Matrix Transpose of A: \n",
      "[[1 3]\n",
      " [2 4]]\n"
     ]
    }
   ],
   "source": [
    "# Matric Transpose\n",
    "G = jnp.transpose(A)\n",
    "\n",
    "print(f\"Matrix A: \\n{A}\")\n",
    "print(\"===========================\")\n",
    "print(f\"Matrix Transpose of A: \\n{G}\")"
   ]
  },
  {
   "cell_type": "code",
   "execution_count": 15,
   "metadata": {},
   "outputs": [
    {
     "name": "stdout",
     "output_type": "stream",
     "text": [
      "Matrix A: \n",
      "[[1 2]\n",
      " [3 4]]\n",
      "===========================\n",
      "Matrix Inversion of A: \n",
      "[[-2.0000002   1.0000001 ]\n",
      " [ 1.5000001  -0.50000006]]\n",
      "Matrix A: \n",
      "[[1 2]\n",
      " [3 4]]\n",
      "===========================\n",
      "Matrix Determinant of A: \n",
      "-2.0\n"
     ]
    }
   ],
   "source": [
    "# Matric Inversion and Determinant\n",
    "H = jnp.linalg.inv(A)\n",
    "\n",
    "print(f\"Matrix A: \\n{A}\")\n",
    "print(\"===========================\")\n",
    "print(f\"Matrix Inversion of A: \\n{H}\")\n",
    "\n",
    "# matrix determinant\n",
    "det_A = jnp.linalg.det(A)\n",
    "\n",
    "print(f\"Matrix A: \\n{A}\")\n",
    "print(\"===========================\")\n",
    "print(f\"Matrix Determinant of A: \\n{det_A}\")"
   ]
  },
  {
   "cell_type": "code",
   "execution_count": null,
   "metadata": {},
   "outputs": [
    {
     "name": "stdout",
     "output_type": "stream",
     "text": [
      "Matrix A: \n",
      "[[1 2]\n",
      " [3 4]]\n",
      "===========================\n",
      "Eigenvalues of A: \n",
      "[-0.4154759  5.415476 ]\n",
      "===========================\n",
      "Eigenvectors of A: \n",
      "[[-0.8701998  0.4926988]\n",
      " [ 0.4926988  0.8701998]]\n"
     ]
    }
   ],
   "source": [
    "# Eigenvalues and Eigenvectors\n",
    "import jax.numpy as jnp\n",
    "\n",
    "A = jnp.array([[1, 2], [3, 4]])\n",
    "eigenvalues, eigenvectors = jnp.linalg.eigh(A)\n",
    "\n",
    "print(f\"Matrix A: \\n{A}\")\n",
    "print(\"===========================\")\n",
    "print(f\"Eigenvalues of A: \\n{eigenvalues}\")\n",
    "print(\"===========================\")\n",
    "print(f\"Eigenvectors of A: \\n{eigenvectors}\")"
   ]
  },
  {
   "cell_type": "code",
   "execution_count": 17,
   "metadata": {},
   "outputs": [
    {
     "name": "stdout",
     "output_type": "stream",
     "text": [
      "Matrix A: \n",
      "[[1 2]\n",
      " [3 4]]\n",
      "===========================\n",
      "Matrix U: \n",
      "[[-0.40455365 -0.91451436]\n",
      " [-0.9145144   0.4045536 ]]\n",
      "===========================\n",
      "Matrix S: \n",
      "[5.4649854 0.3659661]\n",
      "===========================\n",
      "Matrix V: \n",
      "[[-0.5760485  -0.81741554]\n",
      " [ 0.81741554 -0.5760485 ]]\n"
     ]
    }
   ],
   "source": [
    "# Singular Value Decomposition(SVD)\n",
    "\n",
    "import jax.numpy as jnp\n",
    "\n",
    "A = jnp.array([[1, 2], [3, 4]])\n",
    "U, S, V = jnp.linalg.svd(A)\n",
    "\n",
    "print(f\"Matrix A: \\n{A}\")\n",
    "print(\"===========================\")\n",
    "print(f\"Matrix U: \\n{U}\")\n",
    "print(\"===========================\")\n",
    "print(f\"Matrix S: \\n{S}\")\n",
    "print(\"===========================\")\n",
    "print(f\"Matrix V: \\n{V}\")"
   ]
  },
  {
   "cell_type": "code",
   "execution_count": 18,
   "metadata": {},
   "outputs": [
    {
     "name": "stdout",
     "output_type": "stream",
     "text": [
      "Value of x: [1.8 1.4]\n"
     ]
    }
   ],
   "source": [
    "# Solving system of linear equations\n",
    "import jax.numpy as jnp\n",
    "\n",
    "A = jnp.array([[2.0, 1.0], [1.0, 3.0]])\n",
    "b = jnp.array([5.0, 6.0])\n",
    "x = jnp.linalg.solve(A, b)\n",
    "\n",
    "print(f\"Value of x: {x}\")"
   ]
  },
  {
   "cell_type": "code",
   "execution_count": 19,
   "metadata": {},
   "outputs": [
    {
     "name": "stdout",
     "output_type": "stream",
     "text": [
      "Matrix A: \n",
      "[[2. 1.]\n",
      " [1. 3.]]\n",
      "===========================\n",
      "Matrix L: \n",
      "[[1.4142135  0.        ]\n",
      " [0.70710677 1.5811388 ]]\n",
      "===========================\n",
      "Matrix L*L.T: \n",
      "[[1.9999999  0.99999994]\n",
      " [0.99999994 3.        ]]\n"
     ]
    }
   ],
   "source": [
    "# Matrix Decompositions\n",
    "\n",
    "import jax.numpy as jnp\n",
    "\n",
    "A = jnp.array([[2.0, 1.0], [1.0, 3.0]])\n",
    "L = jnp.linalg.cholesky(A)\n",
    "\n",
    "# Creating A from the decomposition\n",
    "A_from_L = L @ L.T\n",
    "\n",
    "print(f\"Matrix A: \\n{A}\")\n",
    "print(\"===========================\")\n",
    "print(f\"Matrix L: \\n{L}\")\n",
    "print(\"===========================\")\n",
    "print(f\"Matrix L*L.T: \\n{A_from_L}\")"
   ]
  },
  {
   "cell_type": "markdown",
   "metadata": {},
   "source": [
    "Function: $sin(x) + x^2$\n",
    "\n",
    "$\\mathrm{X} = \\begin{bmatrix} 1.0 & 2.0 \\\\ 3.0 & 4.0 \\end{bmatrix}$"
   ]
  },
  {
   "cell_type": "code",
   "execution_count": 20,
   "metadata": {},
   "outputs": [
    {
     "name": "stdout",
     "output_type": "stream",
     "text": [
      "Matrix X: \n",
      "[[1. 2.]\n",
      " [3. 4.]]\n",
      "===========================\n",
      "Gradient of matrix_function: \n",
      "[[2.5403023 3.5838532]\n",
      " [5.0100074 7.3463564]]\n"
     ]
    }
   ],
   "source": [
    "# Computing the Gradient of a Matrix Function\n",
    "import jax\n",
    "import jax.numpy as jnp\n",
    "\n",
    "\n",
    "def matrix_function(x):\n",
    "    return jnp.sum(jnp.sin(x) + x**2)\n",
    "\n",
    "\n",
    "# Compute the grad of the function\n",
    "grad_f = jax.grad(matrix_function)\n",
    "\n",
    "X = jnp.array([[1.0, 2.0], [3.0, 4.0]])\n",
    "gradient = grad_f(X)\n",
    "\n",
    "print(f\"Matrix X: \\n{X}\")\n",
    "print(\"===========================\")\n",
    "print(f\"Gradient of matrix_function: \\n{gradient}\")"
   ]
  },
  {
   "cell_type": "code",
   "execution_count": 21,
   "metadata": {},
   "outputs": [],
   "source": [
    "import jax\n",
    "import jax.numpy as jnp\n",
    "\n",
    "\n",
    "# Define parameters\n",
    "mass = 1.0  # Mass of the object (kg)\n",
    "damping = 0.1  # Damping coefficient (kg/s)\n",
    "spring_constant = 1.0  # Spring constant (N/m)\n",
    "\n",
    "# Define time step and total time\n",
    "dt = 0.01  # Time step (s)\n",
    "num_steps = 3000  # Number of steps\n",
    "\n",
    "\n",
    "# Define the system of ODEs\n",
    "def damped_harmonic_oscillator(state, t):\n",
    "    \"\"\"Compute the derivatives for a damped harmonic oscillator.\n",
    "\n",
    "    state: array containing position and velocity [x, v]\n",
    "    t: time (not used in this autonomous system)\n",
    "    \"\"\"\n",
    "    x, v = state\n",
    "    dxdt = v\n",
    "    dvdt = -damping / mass * v - spring_constant / mass * x\n",
    "    return jnp.array([dxdt, dvdt])\n",
    "\n",
    "\n",
    "# Solve the ODE using Euler's method\n",
    "def euler_step(state, t, dt):\n",
    "    \"\"\"Perform one step of Euler's method.\"\"\"\n",
    "    derivatives = damped_harmonic_oscillator(state, t)\n",
    "    return state + derivatives * dt\n",
    "\n",
    "\n",
    "# Initial state: [position, velocity]\n",
    "initial_state = jnp.array([1.0, 0.0])  # Start with the mass at x=1, v=0\n",
    "\n",
    "# Time evolution\n",
    "states = [initial_state]\n",
    "time = 0.0\n",
    "for step in range(num_steps):\n",
    "    next_state = euler_step(states[-1], time, dt)\n",
    "    states.append(next_state)\n",
    "    time += dt\n",
    "\n",
    "# Convert the list of states to a JAX array for analysis\n",
    "states = jnp.stack(states)\n"
   ]
  },
  {
   "cell_type": "code",
   "execution_count": 22,
   "metadata": {},
   "outputs": [
    {
     "name": "stdout",
     "output_type": "stream",
     "text": [
      "States shape: (3001, 2)\n",
      "===========================\n",
      "States: [[ 1.          0.        ]\n",
      " [ 1.         -0.01      ]\n",
      " [ 0.9999     -0.01999   ]\n",
      " ...\n",
      " [ 0.01591401  0.25803292]\n",
      " [ 0.01849434  0.25761575]\n",
      " [ 0.0210705   0.25717318]]\n"
     ]
    }
   ],
   "source": [
    "print(f\"States shape: {states.shape}\")\n",
    "print(\"===========================\")\n",
    "print(f\"States: {states}\")\n"
   ]
  },
  {
   "cell_type": "code",
   "execution_count": 23,
   "metadata": {},
   "outputs": [
    {
     "data": {
      "image/png": "[encoded data removed]",
      "text/plain": [
       "<Figure size 1200x600 with 2 Axes>"
      ]
     },
     "metadata": {},
     "output_type": "display_data"
    }
   ],
   "source": [
    "# Plotting the results\n",
    "import matplotlib.pyplot as plt\n",
    "\n",
    "plt.style.use(\"ggplot\")\n",
    "\n",
    "positions = states[:, 0]\n",
    "velocities = states[:, 1]\n",
    "time_points = jnp.arange(0, (num_steps + 1) * dt, dt)\n",
    "\n",
    "plt.figure(figsize=(12, 6))\n",
    "plt.subplot(2, 1, 1)\n",
    "plt.plot(time_points, positions, label=\"Position\")\n",
    "plt.xlabel(\"Time (s)\")\n",
    "plt.ylabel(\"Position (m)\")\n",
    "plt.legend()\n",
    "\n",
    "plt.subplot(2, 1, 2)\n",
    "plt.plot(time_points, velocities, label=\"Velocity\", color=\"orange\")\n",
    "plt.xlabel(\"Time (s)\")\n",
    "plt.ylabel(\"Velocity (m/s)\")\n",
    "plt.legend()\n",
    "\n",
    "plt.tight_layout()\n",
    "plt.show()"
   ]
  },
  {
   "cell_type": "markdown",
   "metadata": {},
   "source": [
    "## Buidling Neiral Networks"
   ]
  },
  {
   "cell_type": "code",
   "execution_count": 24,
   "metadata": {},
   "outputs": [
    {
     "name": "stdout",
     "output_type": "stream",
     "text": [
      "Epoch 0, Loss: 90.6157\n",
      "Epoch 10, Loss: 5.1804\n",
      "Epoch 20, Loss: 1.2572\n",
      "Epoch 30, Loss: 0.5859\n",
      "Epoch 40, Loss: 0.2757\n",
      "Epoch 50, Loss: 0.1156\n",
      "Epoch 60, Loss: 0.0477\n",
      "Epoch 70, Loss: 0.0188\n",
      "Epoch 80, Loss: 0.0062\n",
      "Epoch 90, Loss: 0.0018\n"
     ]
    }
   ],
   "source": [
    "import jax\n",
    "import jax.numpy as jnp\n",
    "from jax import grad, jit\n",
    "from jax.random import PRNGKey, normal\n",
    "import optax  # JAX's optimization library\n",
    "import matplotlib.pyplot as plt\n",
    "\n",
    "\n",
    "def init_layer_params(key, n_in, n_out):\n",
    "    \"\"\"Initialize parameters for a single dense layer\"\"\"\n",
    "    key_w, key_b = jax.random.split(key)\n",
    "    w = normal(key_w, (n_in, n_out)) * jnp.sqrt(2.0 / n_in)  # He initialization\n",
    "    b = normal(key_b, (n_out,)) * 0.1\n",
    "    return (w, b)\n",
    "\n",
    "\n",
    "def relu(x):\n",
    "    \"\"\"ReLU activation function\"\"\"\n",
    "    return jnp.maximum(0, x)\n",
    "\n",
    "\n",
    "def forward(params, x):\n",
    "    \"\"\"Forward pass for a two-layer neural network\"\"\"\n",
    "    (w1, b1), (w2, b2) = params\n",
    "    # First layer\n",
    "    h1 = relu(jnp.dot(x, w1) + b1)\n",
    "    # Output layer\n",
    "    logits = jnp.dot(h1, w2) + b2\n",
    "    return logits\n",
    "\n",
    "\n",
    "def loss_fn(params, x, y):\n",
    "    \"\"\"Mean squared error loss\"\"\"\n",
    "    pred = forward(params, x)\n",
    "    return jnp.mean((pred - y) ** 2)\n",
    "\n",
    "\n",
    "def init_model(rng_key, input_dim, hidden_dim, output_dim):\n",
    "    key1, key2 = jax.random.split(rng_key)\n",
    "    params = [\n",
    "        init_layer_params(key1, input_dim, hidden_dim),\n",
    "        init_layer_params(key2, hidden_dim, output_dim),\n",
    "    ]\n",
    "    return params\n",
    "\n",
    "\n",
    "@jit\n",
    "def train_step(params, opt_state, x_batch, y_batch):\n",
    "    loss, grads = jax.value_and_grad(loss_fn)(params, x_batch, y_batch)\n",
    "    updates, opt_state = optimizer.update(grads, opt_state)\n",
    "    params = optax.apply_updates(params, updates)\n",
    "    return params, opt_state, loss\n",
    "\n",
    "\n",
    "# Generate some example data\n",
    "key = PRNGKey(0)\n",
    "x_data = normal(key, (1000, 10))  # 1000 samples, 10 features\n",
    "y_data = jnp.sum(x_data**2, axis=1, keepdims=True)  # Simple nonlinear function\n",
    "\n",
    "# Initialize model and optimizer\n",
    "params = init_model(key, input_dim=10, hidden_dim=32, output_dim=1)\n",
    "optimizer = optax.adam(learning_rate=0.001)\n",
    "opt_state = optimizer.init(params)\n",
    "\n",
    "# Training loop\n",
    "batch_size = 32\n",
    "num_epochs = 100\n",
    "num_batches = x_data.shape[0] // batch_size\n",
    "\n",
    "# Arrays to store epoch and loss values\n",
    "epoch_array = []\n",
    "loss_array = []\n",
    "\n",
    "for epoch in range(num_epochs):\n",
    "    epoch_loss = 0.0\n",
    "    for batch in range(num_batches):\n",
    "        idx = jax.random.permutation(key, batch_size)\n",
    "        x_batch = x_data[idx]\n",
    "        y_batch = y_data[idx]\n",
    "        params, opt_state, loss = train_step(params, opt_state, x_batch, y_batch)\n",
    "        epoch_loss += loss\n",
    "\n",
    "    # Store the average loss for the epoch\n",
    "    avg_loss = epoch_loss / num_batches\n",
    "    epoch_array.append(epoch)\n",
    "    loss_array.append(avg_loss)\n",
    "\n",
    "    if epoch % 10 == 0:\n",
    "        print(f\"Epoch {epoch}, Loss: {avg_loss:.4f}\")\n"
   ]
  },
  {
   "cell_type": "code",
   "execution_count": 25,
   "metadata": {},
   "outputs": [
    {
     "data": {
      "image/png": "[encoded data removed]",
      "text/plain": [
       "<Figure size 640x480 with 1 Axes>"
      ]
     },
     "metadata": {},
     "output_type": "display_data"
    }
   ],
   "source": [
    "# Plot the results\n",
    "plt.plot(epoch_array, loss_array, label=\"Training Loss\")\n",
    "plt.xlabel(\"Epoch\")\n",
    "plt.ylabel(\"Loss\")\n",
    "plt.title(\"Training Loss over Epochs\")\n",
    "plt.legend()\n",
    "plt.show()"
   ]
  },
  {
   "cell_type": "markdown",
   "metadata": {},
   "source": [
    "## Performance Optimization"
   ]
  },
  {
   "cell_type": "code",
   "execution_count": 26,
   "metadata": {},
   "outputs": [
    {
     "name": "stdout",
     "output_type": "stream",
     "text": [
      "===========================\n",
      "===========================\n",
      "1001\n",
      "===========================\n",
      "1001\n"
     ]
    }
   ],
   "source": [
    "import jax\n",
    "import jax.numpy as jnp\n",
    "from jax import jit\n",
    "from jax import lax\n",
    "\n",
    "\n",
    "# BAD: Dynamic Python control flow inside JIT\n",
    "@jit\n",
    "def bad_function(x, n):\n",
    "    for i in range(n):  # Python loop - will be unrolled\n",
    "        x = x + 1\n",
    "    return x\n",
    "\n",
    "\n",
    "print(\"===========================\")\n",
    "# print(bad_function(1, 1000)) # does not work\n",
    "\n",
    "\n",
    "# GOOD: Use JAX-native operations\n",
    "@jit\n",
    "def good_function(x, n):\n",
    "    return x + n  # Vectorized operation\n",
    "\n",
    "\n",
    "print(\"===========================\")\n",
    "print(good_function(1, 1000))\n",
    "\n",
    "\n",
    "# BETTER: Use scan for loops\n",
    "\n",
    "\n",
    "@jit\n",
    "def best_function(x, n):\n",
    "    def body_fun(i, val):\n",
    "        return val + 1\n",
    "\n",
    "    return lax.fori_loop(0, n, body_fun, x)\n",
    "\n",
    "\n",
    "print(\"===========================\")\n",
    "print(best_function(1, 1000))"
   ]
  },
  {
   "cell_type": "code",
   "execution_count": 27,
   "metadata": {},
   "outputs": [
    {
     "name": "stdout",
     "output_type": "stream",
     "text": [
      "===========================\n",
      "Shape of x: (Array(3, dtype=int32),)\n",
      "Sum: 6\n",
      "6\n",
      "===========================\n",
      "Input: [1 2 3]\n",
      "Shape of x: (Array(3, dtype=int32),)\n",
      "Sum: 6\n",
      "Output: 6\n",
      "6\n"
     ]
    }
   ],
   "source": [
    "from jax import debug\n",
    "\n",
    "\n",
    "@jit\n",
    "def debug_function(x):\n",
    "    # Use debug.print instead of print inside JIT\n",
    "    debug.print(\"Shape of x: {}\", x.shape)\n",
    "    y = jnp.sum(x)\n",
    "    debug.print(\"Sum: {}\", y)\n",
    "    return y\n",
    "\n",
    "\n",
    "# For more complex debugging, break out of JIT\n",
    "def debug_values(x):\n",
    "    print(\"Input:\", x)\n",
    "    result = debug_function(x)\n",
    "    print(\"Output:\", result)\n",
    "    return result\n",
    "\n",
    "\n",
    "print(\"===========================\")\n",
    "print(debug_function(jnp.array([1, 2, 3])))\n",
    "print(\"===========================\")\n",
    "print(debug_values(jnp.array([1, 2, 3])))"
   ]
  },
  {
   "cell_type": "code",
   "execution_count": 28,
   "metadata": {},
   "outputs": [
    {
     "name": "stdout",
     "output_type": "stream",
     "text": [
      "===========================\n",
      "(10000,)\n",
      "===========================\n",
      "[   0    1    2 ... 9997 9998 9999]\n",
      "===========================\n",
      "[ 0.         1.         1.4142135 ... 99.985     99.99      99.995    ]\n"
     ]
    }
   ],
   "source": [
    "# 1. Device Memory Management\n",
    "def process_large_data(data):\n",
    "    # Process in chunks to manage memory\n",
    "    chunk_size = 100\n",
    "    results = []\n",
    "\n",
    "    for i in range(0, len(data), chunk_size):\n",
    "        chunk = data[i : i + chunk_size]\n",
    "        chunk_result = jit(process_chunk)(chunk)\n",
    "        results.append(chunk_result)\n",
    "\n",
    "    return jnp.concatenate(results)\n",
    "\n",
    "\n",
    "def process_chunk(chunk):\n",
    "    chunk_temp = jnp.sqrt(chunk)\n",
    "    return chunk_temp\n",
    "\n",
    "\n",
    "print(\"===========================\")\n",
    "data = jnp.arange(10000)\n",
    "print(data.shape)\n",
    "\n",
    "print(\"===========================\")\n",
    "print(data)\n",
    "\n",
    "print(\"===========================\")\n",
    "print(process_large_data(data))\n"
   ]
  },
  {
   "cell_type": "code",
   "execution_count": 29,
   "metadata": {},
   "outputs": [
    {
     "name": "stdout",
     "output_type": "stream",
     "text": [
      "===========================\n",
      "Random number generator: [4146024105  967050713]\n",
      "dict_keys(['w1', 'b1', 'w2', 'b2'])\n",
      "===========================\n",
      "===========================\n",
      "Network parameters shape: (784, 256)\n",
      "===========================\n",
      "Network parameters shape: (256,)\n",
      "===========================\n",
      "Network parameters shape: (256, 10)\n",
      "===========================\n",
      "Network parameters shape: (10,)\n",
      "===========================\n",
      "Network parameters: {'w1': Array([[ 5.2278763e-01,  7.8880668e-02,  9.0638918e-01, ...,\n",
      "         3.9273381e-01, -9.0940499e-01,  6.6453928e-01],\n",
      "       [-7.9783428e-01,  1.9565071e+00, -3.0104196e-01, ...,\n",
      "        -1.3077171e+00,  3.5896163e-02,  5.2602027e-02],\n",
      "       [-2.3279522e-01, -1.8574070e+00,  1.6978498e-01, ...,\n",
      "        -4.6157572e-01,  1.0614971e+00,  1.0927857e+00],\n",
      "       ...,\n",
      "       [ 1.1753079e-03, -9.2797303e-01, -3.4065768e-01, ...,\n",
      "         7.8881347e-01,  1.8043330e+00, -3.4369582e-01],\n",
      "       [ 5.2816564e-01, -1.4847070e+00,  1.2584126e+00, ...,\n",
      "         2.3965056e-01, -1.0461185e+00, -4.7977254e-01],\n",
      "       [-6.2744662e-02, -1.4540663e+00,  4.7088835e-01, ...,\n",
      "        -9.5819747e-01, -1.2843794e+00, -2.2456572e+00]], dtype=float32), 'b1': Array([ 5.40928066e-01, -9.97949839e-01,  5.92418432e-01, -7.56425142e-01,\n",
      "        1.67399362e-01, -1.74696994e+00,  7.33917207e-02, -1.01407146e+00,\n",
      "        8.05884063e-01, -6.32770300e-01,  1.03786159e+00,  2.71953434e-01,\n",
      "       -3.66452515e-01,  6.41819656e-01, -5.97285390e-01, -3.08668256e-01,\n",
      "        3.76330256e-01, -1.71215720e-02,  2.00356793e+00,  1.32730269e+00,\n",
      "        4.12077308e-01, -8.53801847e-01, -1.60924196e-01, -6.51652157e-01,\n",
      "       -1.30490398e+00,  4.83520567e-01,  6.65884167e-02,  6.30449057e-01,\n",
      "        1.70613158e+00,  1.71737564e+00, -1.01530349e+00, -3.65792990e-01,\n",
      "       -7.21097410e-01,  2.13180852e+00,  9.91195917e-01,  2.16263533e+00,\n",
      "       -7.81216681e-01, -3.41798544e-01,  8.37304473e-01,  1.00300670e+00,\n",
      "       -1.49893236e+00, -2.96614671e+00, -7.21571967e-02,  4.15029228e-01,\n",
      "       -1.38710785e+00,  3.29229921e-01,  9.74830806e-01,  3.11975151e-01,\n",
      "       -5.43192141e-02, -5.95645785e-01, -8.31972539e-01,  2.00291932e-01,\n",
      "       -2.01273012e+00, -5.68016768e-01, -1.56414270e-01,  1.05423844e+00,\n",
      "        3.00771356e-01,  1.10433064e-01, -2.06863117e+00, -3.46210927e-01,\n",
      "       -2.99704218e+00,  1.01921105e+00, -8.45429957e-01,  1.57777715e+00,\n",
      "        5.20827115e-01,  1.26035953e+00, -8.32733870e-01,  3.99280608e-01,\n",
      "       -2.68081522e+00, -7.63666093e-01, -5.49748838e-01, -1.21119463e+00,\n",
      "       -3.47721219e-01,  9.08519030e-01, -8.05249751e-01, -5.01042604e-01,\n",
      "       -4.68357444e-01, -3.79604995e-01,  4.73976620e-02, -2.00525761e+00,\n",
      "        3.10560614e-01,  7.21983075e-01, -2.23116647e-03, -1.60185337e-01,\n",
      "       -1.42019153e+00, -6.06648982e-01, -1.49612993e-01,  1.08213104e-01,\n",
      "       -9.44093347e-01, -2.56086683e+00,  1.63141772e-01,  1.04063725e+00,\n",
      "        8.59133065e-01,  1.30200660e+00,  6.34718120e-01,  6.05734944e-01,\n",
      "        1.05663860e+00,  2.74917960e+00, -4.80676591e-01, -2.53152847e+00,\n",
      "       -7.47818112e-01,  3.54676932e-01,  3.45627725e-01,  5.09069681e-01,\n",
      "       -8.77804101e-01,  4.83414769e-01, -9.53094125e-01,  2.88900465e-01,\n",
      "        6.59765065e-01, -7.36495495e-01,  1.69015020e-01,  1.24455118e+00,\n",
      "        3.64402556e+00,  4.75703537e-01,  2.00864148e+00, -1.49302244e+00,\n",
      "       -7.86341354e-02, -1.57034349e+00, -4.04159099e-01, -5.65767884e-01,\n",
      "        6.00924762e-03, -1.18431509e+00, -6.89218104e-01, -4.04663354e-01,\n",
      "       -5.26943393e-02,  1.26438391e+00,  4.02035058e-01,  2.64711678e-01,\n",
      "       -3.70884955e-01, -8.23259950e-01,  5.67818023e-02,  1.58908081e+00,\n",
      "        6.71397448e-01,  2.22081244e-01, -3.95082459e-02, -9.20471251e-02,\n",
      "        7.32251763e-01, -8.77152383e-01, -5.81603229e-01,  4.23396438e-01,\n",
      "       -1.09462166e+00, -1.43330181e+00, -5.86337894e-02, -1.15895435e-01,\n",
      "       -9.36315656e-01, -9.16918293e-02,  8.07375789e-01,  2.42112353e-01,\n",
      "        7.10160971e-01,  1.70687485e+00, -1.43583620e+00, -2.22600237e-01,\n",
      "       -9.05597508e-01,  1.14372790e+00, -1.24421582e-01, -1.12228620e+00,\n",
      "       -7.53572136e-02, -1.76056176e-01,  1.93114668e-01, -3.12054068e-01,\n",
      "        4.47041750e-01,  1.12813830e+00,  1.08283913e+00,  3.44641358e-01,\n",
      "       -8.77766252e-01, -1.66369274e-01, -5.42621434e-01,  1.18727648e+00,\n",
      "        5.96070811e-02, -2.08750629e+00,  5.71268618e-01, -8.08340490e-01,\n",
      "        5.91743708e-01,  1.21699020e-01,  1.17205822e+00, -8.56640399e-01,\n",
      "        1.00639939e+00, -7.09582984e-01,  7.26849288e-02,  1.32094693e+00,\n",
      "        1.14512384e+00,  2.16370201e+00,  9.56346452e-01, -5.19892931e-01,\n",
      "        1.09659708e+00,  4.21963364e-01,  1.88815975e+00,  8.25266302e-01,\n",
      "        2.34071881e-01,  7.30158806e-01, -5.27409196e-01, -5.89967012e-01,\n",
      "       -2.73110956e-01, -3.79066139e-01,  3.24509978e-01, -4.32138383e-01,\n",
      "        1.69348761e-01, -2.12704515e+00, -2.30404234e+00, -8.07162344e-01,\n",
      "        1.77185073e-01,  1.40631109e-01, -4.89843786e-01,  1.96703422e+00,\n",
      "        4.24329460e-01,  8.92007589e-01, -1.16737509e+00, -7.29463637e-01,\n",
      "       -2.72604495e-01, -7.86845207e-01, -5.52965939e-01,  1.77383590e+00,\n",
      "       -2.07816911e+00,  2.33574688e-01,  7.18521297e-01,  1.21252394e+00,\n",
      "       -1.48898989e-01, -2.10488290e-01,  1.59614813e+00, -1.44597459e+00,\n",
      "       -7.07599521e-01, -5.19924700e-01, -1.80927873e+00, -8.76688480e-01,\n",
      "       -3.18208486e-02, -2.16572639e-03,  8.02651644e-01, -4.75483924e-01,\n",
      "       -1.27998459e+00,  2.11108059e-01, -1.26082087e+00,  2.58863211e-01,\n",
      "       -2.69951797e+00,  1.35281742e+00, -1.13995528e+00, -2.13677332e-01,\n",
      "        1.68812543e-01, -3.53078187e-01,  5.18561602e-01,  1.33847773e+00,\n",
      "        4.32849854e-01,  5.21017671e-01, -2.05343887e-01, -1.89272389e-01,\n",
      "       -2.23532677e+00, -8.42992783e-01,  3.47624242e-01, -7.11449921e-01,\n",
      "        8.10408771e-01, -8.74549031e-01, -1.07576084e+00,  2.46070996e-01,\n",
      "       -1.73584864e-01, -8.33932698e-01,  6.55595541e-01, -2.93780416e-01],      dtype=float32), 'w2': Array([[ 1.1548796 ,  0.46895355,  0.00490093, ..., -2.0040252 ,\n",
      "        -2.166294  , -0.90066665],\n",
      "       [-0.09363797, -0.24288306, -1.2636083 , ...,  0.71690077,\n",
      "         1.8945689 ,  1.3959625 ],\n",
      "       [-0.60689217,  1.6861519 , -0.3186528 , ...,  1.4138613 ,\n",
      "         0.40855438, -1.7236015 ],\n",
      "       ...,\n",
      "       [-0.08080982, -0.46923262, -1.313753  , ..., -0.36614573,\n",
      "         1.1905789 , -2.2686324 ],\n",
      "       [-0.82070047, -0.03073144, -0.22558714, ...,  0.03488584,\n",
      "         2.839161  ,  0.22809133],\n",
      "       [-2.2464578 , -1.7351841 ,  1.7672005 , ..., -1.2753998 ,\n",
      "         0.4913872 , -0.71346843]], dtype=float32), 'b2': Array([-0.38812608, -0.04487164, -2.0427258 ,  0.07932311,  0.33349916,\n",
      "        0.7959976 , -1.4411978 , -1.6929979 , -0.37369204, -1.5401139 ],      dtype=float32)}\n"
     ]
    }
   ],
   "source": [
    "# 2. Handling Random Seeds\n",
    "def create_training_state(rng):\n",
    "    # Split RNG for different uses\n",
    "    rng, init_rng = jax.random.split(rng)\n",
    "    params = init_network(init_rng)\n",
    "\n",
    "    return params, rng  # Return new RNG for next use\n",
    "\n",
    "\n",
    "def init_network(rng):\n",
    "    # Initialize network parameters\n",
    "    return {\n",
    "        \"w1\": jax.random.normal(rng, (784, 256)),\n",
    "        \"b1\": jax.random.normal(rng, (256,)),\n",
    "        \"w2\": jax.random.normal(rng, (256, 10)),\n",
    "        \"b2\": jax.random.normal(rng, (10,)),\n",
    "    }\n",
    "\n",
    "\n",
    "print(\"===========================\")\n",
    "\n",
    "key = jax.random.PRNGKey(0)\n",
    "params, rng = create_training_state(key)\n",
    "\n",
    "\n",
    "print(f\"Random number generator: {rng}\")\n",
    "\n",
    "print(params.keys())\n",
    "\n",
    "print(\"===========================\")\n",
    "\n",
    "\n",
    "print(\"===========================\")\n",
    "print(f\"Network parameters shape: {params['w1'].shape}\")\n",
    "\n",
    "print(\"===========================\")\n",
    "print(f\"Network parameters shape: {params['b1'].shape}\")\n",
    "print(\"===========================\")\n",
    "print(f\"Network parameters shape: {params['w2'].shape}\")\n",
    "\n",
    "print(\"===========================\")\n",
    "print(f\"Network parameters shape: {params['b2'].shape}\")\n",
    "\n",
    "\n",
    "print(\"===========================\")\n",
    "print(f\"Network parameters: {params}\")\n"
   ]
  },
  {
   "cell_type": "code",
   "execution_count": 30,
   "metadata": {},
   "outputs": [
    {
     "name": "stdout",
     "output_type": "stream",
     "text": [
      "30\n"
     ]
    }
   ],
   "source": [
    "def g(x, n):\n",
    "    i = 0\n",
    "    while i < n:\n",
    "        i += 1\n",
    "    return x + i\n",
    "\n",
    "\n",
    "g_jit_correct = jax.jit(g, static_argnames=[\"n\"])\n",
    "print(g_jit_correct(10, 20))"
   ]
  },
  {
   "cell_type": "code",
   "execution_count": 31,
   "metadata": {},
   "outputs": [
    {
     "name": "stdout",
     "output_type": "stream",
     "text": [
      "30\n"
     ]
    }
   ],
   "source": [
    "from functools import partial\n",
    "\n",
    "\n",
    "@partial(jax.jit, static_argnames=[\"n\"])\n",
    "def g_jit_decorated(x, n):\n",
    "    i = 0\n",
    "    while i < n:\n",
    "        i += 1\n",
    "    return x + i\n",
    "\n",
    "\n",
    "print(g_jit_decorated(10, 20))"
   ]
  },
  {
   "cell_type": "code",
   "execution_count": 32,
   "metadata": {},
   "outputs": [],
   "source": [
    "# # 3. Using static_argnums for dynamic shapes\n",
    "\n",
    "\n",
    "# def f(x):\n",
    "#     if x > 0:\n",
    "#         return x\n",
    "#     else:\n",
    "#         return 2 * x\n",
    "\n",
    "\n",
    "# @jit(f, static_argnums=(1,))  # Second argument won't be JIT-compiled\n",
    "# def create_matrix(x, size):\n",
    "#     return jnp.ones((size, size)) * x"
   ]
  },
  {
   "cell_type": "code",
   "execution_count": 33,
   "metadata": {},
   "outputs": [],
   "source": [
    "# BAD: Creating large temporary arrays\n",
    "@jit\n",
    "def inefficient_function(x):\n",
    "    temp1 = jnp.power(x, 2)  # Temporary array\n",
    "    temp2 = jnp.sin(temp1)  # Another temporary\n",
    "    return jnp.sum(temp2)\n",
    "\n",
    "\n",
    "# GOOD: Combining operations\n",
    "@jit\n",
    "def efficient_function(x):\n",
    "    return jnp.sum(jnp.sin(jnp.power(x, 2)))  # Single operation"
   ]
  },
  {
   "cell_type": "code",
   "execution_count": 35,
   "metadata": {},
   "outputs": [
    {
     "name": "stdout",
     "output_type": "stream",
     "text": [
      "[1 2 3]\n",
      "0.49678695\n",
      "0.49678695\n"
     ]
    }
   ],
   "source": [
    "x = jnp.array([1, 2, 3])\n",
    "print(x)\n",
    "print(inefficient_function(x))\n",
    "print(efficient_function(x))"
   ]
  }
 ],
 "metadata": {
  "kernelspec": {
   "display_name": "jaxdl",
   "language": "python",
   "name": "python3"
  },
  "language_info": {
   "codemirror_mode": {
    "name": "ipython",
    "version": 3
   },
   "file_extension": ".py",
   "mimetype": "text/x-python",
   "name": "python",
   "nbconvert_exporter": "python",
   "pygments_lexer": "ipython3",
   "version": "3.11.9"
  }
 },
 "nbformat": 4,
 "nbformat_minor": 2
}
